{
 "cells": [
  {
   "cell_type": "markdown",
   "id": "fb023c30",
   "metadata": {},
   "source": [
    "**importing libraries**"
   ]
  },
  {
   "cell_type": "code",
   "execution_count": 1,
   "id": "a470e6ca",
   "metadata": {},
   "outputs": [],
   "source": [
    "from bs4 import BeautifulSoup\n",
    "import pandas as pd\n",
    "import numpy as np\n",
    "import seaborn as sns\n",
    "import requests\n",
    "import matplotlib.pyplot as plt"
   ]
  },
  {
   "cell_type": "markdown",
   "id": "3fadf411",
   "metadata": {},
   "source": [
    "# Web scraping from: https://wine.com\n",
    "**functions to get all the info about the products**"
   ]
  },
  {
   "cell_type": "code",
   "execution_count": 2,
   "id": "2cab87ce",
   "metadata": {},
   "outputs": [],
   "source": [
    "def url_contructor(page_number, url):\n",
    "    first = url.split('7155', 1)[0]\n",
    "    second = url.split('7155',1)[1]\n",
    "    url = first + '7155/' + str(page_number) + second\n",
    "    return url"
   ]
  },
  {
   "cell_type": "code",
   "execution_count": 3,
   "id": "6eac9ea5",
   "metadata": {},
   "outputs": [],
   "source": [
    "def web_scrap():\n",
    "    page = 0\n",
    "    url_df = []\n",
    "    web_data = {'product_name': [],\n",
    "                'year':[],\n",
    "                'varietal': [],\n",
    "                'origin': [],\n",
    "                'price': [],\n",
    "                'rating': [],\n",
    "                'rating_count':[]}\n",
    "    df = pd.DataFrame(data=web_data)\n",
    "    url = 'https://www.wine.com/list/wine/7155?pricemin=10&ratingmin=89'\n",
    "    for x in range(1, 120):\n",
    "        try:\n",
    "            page += 1\n",
    "            url_df.append(url_contructor(page, url))\n",
    "        except Exception:\n",
    "            continue\n",
    "    for link in url_df:\n",
    "        r = requests.get(link)\n",
    "        soup = BeautifulSoup(r.content, 'html.parser')\n",
    "        all_li = soup.find_all('li', {'class': 'prodItem'})\n",
    "        for li in all_li:\n",
    "            product_name = li.find('span', class_= 'prodItemInfo_name').string\n",
    "            year = product_name.split()[-1]\n",
    "            product_name = product_name.rsplit(' ', 1)[0]\n",
    "            price = li.find('span', class_='productPrice_price-regWhole').string\n",
    "            varietal = li.find('span', class_='prodItemInfo_varietal').string\n",
    "            origin = li.find('span', class_='prodItemInfo_originText').string\n",
    "            origin = origin.split()[-1]\n",
    "            rating = li.find('span', class_='averageRating_average').string\n",
    "            rating_count = li.find('span', class_='averageRating_number').string\n",
    "            series = [product_name,year,varietal,origin,price,rating,rating_count]\n",
    "            df.loc[len(df)]=series\n",
    "    return df"
   ]
  },
  {
   "cell_type": "markdown",
   "id": "5e39eb4c",
   "metadata": {},
   "source": [
    "**run to update DataFrame**"
   ]
  },
  {
   "cell_type": "code",
   "execution_count": 4,
   "id": "43ea2c33",
   "metadata": {},
   "outputs": [],
   "source": [
    "#df = web_scrap()"
   ]
  },
  {
   "cell_type": "code",
   "execution_count": 5,
   "id": "4be7d73d",
   "metadata": {},
   "outputs": [],
   "source": [
    "#df.to_csv('wine.csv')"
   ]
  },
  {
   "cell_type": "markdown",
   "id": "fb7f6f8b",
   "metadata": {},
   "source": [
    "**loading DataFrame**"
   ]
  },
  {
   "cell_type": "code",
   "execution_count": 6,
   "id": "4149a9be",
   "metadata": {},
   "outputs": [
    {
     "data": {
      "text/html": [
       "<div>\n",
       "<style scoped>\n",
       "    .dataframe tbody tr th:only-of-type {\n",
       "        vertical-align: middle;\n",
       "    }\n",
       "\n",
       "    .dataframe tbody tr th {\n",
       "        vertical-align: top;\n",
       "    }\n",
       "\n",
       "    .dataframe thead th {\n",
       "        text-align: right;\n",
       "    }\n",
       "</style>\n",
       "<table border=\"1\" class=\"dataframe\">\n",
       "  <thead>\n",
       "    <tr style=\"text-align: right;\">\n",
       "      <th></th>\n",
       "      <th>product_name</th>\n",
       "      <th>year</th>\n",
       "      <th>varietal</th>\n",
       "      <th>origin</th>\n",
       "      <th>price</th>\n",
       "      <th>rating</th>\n",
       "      <th>rating_count</th>\n",
       "    </tr>\n",
       "  </thead>\n",
       "  <tbody>\n",
       "    <tr>\n",
       "      <th>0</th>\n",
       "      <td>Dom Perignon Vintage with Gift Box</td>\n",
       "      <td>2012</td>\n",
       "      <td>Vintage Sparkling Wine</td>\n",
       "      <td>France</td>\n",
       "      <td>269</td>\n",
       "      <td>4.8</td>\n",
       "      <td>37</td>\n",
       "    </tr>\n",
       "    <tr>\n",
       "      <th>1</th>\n",
       "      <td>Robert Mondavi To Kalon Vineyard Reserve Caber...</td>\n",
       "      <td>2017</td>\n",
       "      <td>Cabernet Sauvignon</td>\n",
       "      <td>California</td>\n",
       "      <td>144</td>\n",
       "      <td>4.6</td>\n",
       "      <td>34</td>\n",
       "    </tr>\n",
       "    <tr>\n",
       "      <th>2</th>\n",
       "      <td>Chateau Fonbadet B de Fonbadet</td>\n",
       "      <td>2019</td>\n",
       "      <td>Bordeaux Red Blends</td>\n",
       "      <td>France</td>\n",
       "      <td>24</td>\n",
       "      <td>3.8</td>\n",
       "      <td>31</td>\n",
       "    </tr>\n",
       "    <tr>\n",
       "      <th>3</th>\n",
       "      <td>Joseph Phelps Cabernet Sauvignon</td>\n",
       "      <td>2019</td>\n",
       "      <td>Cabernet Sauvignon</td>\n",
       "      <td>California</td>\n",
       "      <td>89</td>\n",
       "      <td>4.5</td>\n",
       "      <td>46</td>\n",
       "    </tr>\n",
       "    <tr>\n",
       "      <th>4</th>\n",
       "      <td>Stag's Leap Wine Cellars Artemis Cabernet Sauv...</td>\n",
       "      <td>2019</td>\n",
       "      <td>Cabernet Sauvignon</td>\n",
       "      <td>California</td>\n",
       "      <td>77</td>\n",
       "      <td>4.4</td>\n",
       "      <td>72</td>\n",
       "    </tr>\n",
       "    <tr>\n",
       "      <th>...</th>\n",
       "      <td>...</td>\n",
       "      <td>...</td>\n",
       "      <td>...</td>\n",
       "      <td>...</td>\n",
       "      <td>...</td>\n",
       "      <td>...</td>\n",
       "      <td>...</td>\n",
       "    </tr>\n",
       "    <tr>\n",
       "      <th>2970</th>\n",
       "      <td>Landmark Hop Kiln Estate Pinot Noir</td>\n",
       "      <td>2018</td>\n",
       "      <td>Pinot Noir</td>\n",
       "      <td>California</td>\n",
       "      <td>45</td>\n",
       "      <td>0.0</td>\n",
       "      <td>0</td>\n",
       "    </tr>\n",
       "    <tr>\n",
       "      <th>2971</th>\n",
       "      <td>Omen Zinfandel</td>\n",
       "      <td>2019</td>\n",
       "      <td>Zinfandel</td>\n",
       "      <td>California</td>\n",
       "      <td>15</td>\n",
       "      <td>3.4</td>\n",
       "      <td>7</td>\n",
       "    </tr>\n",
       "    <tr>\n",
       "      <th>2972</th>\n",
       "      <td>Mount Mary Vineyards Chardonnay</td>\n",
       "      <td>2018</td>\n",
       "      <td>Chardonnay</td>\n",
       "      <td>Australia</td>\n",
       "      <td>71</td>\n",
       "      <td>0.0</td>\n",
       "      <td>0</td>\n",
       "    </tr>\n",
       "    <tr>\n",
       "      <th>2973</th>\n",
       "      <td>Alain Chavy Puligny-Montrachet Les Folatieres ...</td>\n",
       "      <td>2020</td>\n",
       "      <td>Chardonnay</td>\n",
       "      <td>France</td>\n",
       "      <td>139</td>\n",
       "      <td>0.0</td>\n",
       "      <td>0</td>\n",
       "    </tr>\n",
       "    <tr>\n",
       "      <th>2974</th>\n",
       "      <td>Peregrine Sauvignon Blanc</td>\n",
       "      <td>2021</td>\n",
       "      <td>Sauvignon Blanc</td>\n",
       "      <td>Zealand</td>\n",
       "      <td>28</td>\n",
       "      <td>0.0</td>\n",
       "      <td>0</td>\n",
       "    </tr>\n",
       "  </tbody>\n",
       "</table>\n",
       "<p>2975 rows × 7 columns</p>\n",
       "</div>"
      ],
      "text/plain": [
       "                                           product_name  year  \\\n",
       "0                    Dom Perignon Vintage with Gift Box  2012   \n",
       "1     Robert Mondavi To Kalon Vineyard Reserve Caber...  2017   \n",
       "2                        Chateau Fonbadet B de Fonbadet  2019   \n",
       "3                      Joseph Phelps Cabernet Sauvignon  2019   \n",
       "4     Stag's Leap Wine Cellars Artemis Cabernet Sauv...  2019   \n",
       "...                                                 ...   ...   \n",
       "2970                Landmark Hop Kiln Estate Pinot Noir  2018   \n",
       "2971                                     Omen Zinfandel  2019   \n",
       "2972                    Mount Mary Vineyards Chardonnay  2018   \n",
       "2973  Alain Chavy Puligny-Montrachet Les Folatieres ...  2020   \n",
       "2974                          Peregrine Sauvignon Blanc  2021   \n",
       "\n",
       "                    varietal      origin price  rating  rating_count  \n",
       "0     Vintage Sparkling Wine      France   269     4.8            37  \n",
       "1         Cabernet Sauvignon  California   144     4.6            34  \n",
       "2        Bordeaux Red Blends      France    24     3.8            31  \n",
       "3         Cabernet Sauvignon  California    89     4.5            46  \n",
       "4         Cabernet Sauvignon  California    77     4.4            72  \n",
       "...                      ...         ...   ...     ...           ...  \n",
       "2970              Pinot Noir  California    45     0.0             0  \n",
       "2971               Zinfandel  California    15     3.4             7  \n",
       "2972              Chardonnay   Australia    71     0.0             0  \n",
       "2973              Chardonnay      France   139     0.0             0  \n",
       "2974         Sauvignon Blanc     Zealand    28     0.0             0  \n",
       "\n",
       "[2975 rows x 7 columns]"
      ]
     },
     "execution_count": 6,
     "metadata": {},
     "output_type": "execute_result"
    }
   ],
   "source": [
    "df = pd.read_csv('wine.csv', index_col=0)\n",
    "df"
   ]
  },
  {
   "cell_type": "markdown",
   "id": "06b48ce6",
   "metadata": {},
   "source": [
    "# Cleaning data for plots and machine learning"
   ]
  },
  {
   "cell_type": "markdown",
   "id": "ea1d288b",
   "metadata": {},
   "source": [
    "**removing products with no rating or not enough ratings**"
   ]
  },
  {
   "cell_type": "code",
   "execution_count": 7,
   "id": "b92737f8",
   "metadata": {},
   "outputs": [],
   "source": [
    "df = df[df['rating'] != 0]\n",
    "df = df[df['rating_count'] > 20]"
   ]
  },
  {
   "cell_type": "markdown",
   "id": "c3af0e84",
   "metadata": {},
   "source": [
    "**converting strings to integers**  "
   ]
  },
  {
   "cell_type": "code",
   "execution_count": 8,
   "id": "30219bbd",
   "metadata": {},
   "outputs": [],
   "source": [
    "df = df[pd.to_numeric(df['year'], errors='coerce').notnull()]\n",
    "df['price']=df['price'].str.replace(',','')\n",
    "df = df.astype({'price':'int'})\n",
    "df = df.astype({'rating':'float'})\n",
    "df['year'] = pd.to_numeric(df['year'])"
   ]
  },
  {
   "cell_type": "markdown",
   "id": "d10c7b57",
   "metadata": {},
   "source": [
    "**taking all the products from 2014 and above** "
   ]
  },
  {
   "cell_type": "code",
   "execution_count": 9,
   "id": "cee34969",
   "metadata": {},
   "outputs": [],
   "source": [
    "df = df[df['year'] > 2014] #2014\n",
    "df = df[df['year'] < 2021]\n",
    "df = df.reset_index(drop=True)"
   ]
  },
  {
   "cell_type": "markdown",
   "id": "41637ee2",
   "metadata": {},
   "source": [
    "**removing products that appear below the minimum times**\\"
   ]
  },
  {
   "cell_type": "code",
   "execution_count": 10,
   "id": "110c047f",
   "metadata": {},
   "outputs": [],
   "source": [
    "df = df.groupby('varietal').filter(lambda x : len(x)>20).reset_index(drop=True) #20\n",
    "df = df.groupby('origin').filter(lambda x : len(x)>5).reset_index(drop=True) #5"
   ]
  },
  {
   "cell_type": "markdown",
   "id": "6b3b50b1",
   "metadata": {},
   "source": [
    "**adding categorical codes**"
   ]
  },
  {
   "cell_type": "code",
   "execution_count": 11,
   "id": "a39d1429",
   "metadata": {},
   "outputs": [],
   "source": [
    "df['varietal_code'] = df['varietal'].astype('category').cat.codes\n",
    "df['origin_code'] = df['origin'].astype('category').cat.codes"
   ]
  },
  {
   "cell_type": "code",
   "execution_count": 12,
   "id": "520d7bcd",
   "metadata": {},
   "outputs": [
    {
     "data": {
      "text/html": [
       "<div>\n",
       "<style scoped>\n",
       "    .dataframe tbody tr th:only-of-type {\n",
       "        vertical-align: middle;\n",
       "    }\n",
       "\n",
       "    .dataframe tbody tr th {\n",
       "        vertical-align: top;\n",
       "    }\n",
       "\n",
       "    .dataframe thead th {\n",
       "        text-align: right;\n",
       "    }\n",
       "</style>\n",
       "<table border=\"1\" class=\"dataframe\">\n",
       "  <thead>\n",
       "    <tr style=\"text-align: right;\">\n",
       "      <th></th>\n",
       "      <th>product_name</th>\n",
       "      <th>year</th>\n",
       "      <th>varietal</th>\n",
       "      <th>origin</th>\n",
       "      <th>price</th>\n",
       "      <th>rating</th>\n",
       "      <th>rating_count</th>\n",
       "      <th>varietal_code</th>\n",
       "      <th>origin_code</th>\n",
       "    </tr>\n",
       "  </thead>\n",
       "  <tbody>\n",
       "    <tr>\n",
       "      <th>0</th>\n",
       "      <td>Robert Mondavi To Kalon Vineyard Reserve Caber...</td>\n",
       "      <td>2017</td>\n",
       "      <td>Cabernet Sauvignon</td>\n",
       "      <td>California</td>\n",
       "      <td>144</td>\n",
       "      <td>4.6</td>\n",
       "      <td>34</td>\n",
       "      <td>1</td>\n",
       "      <td>2</td>\n",
       "    </tr>\n",
       "    <tr>\n",
       "      <th>1</th>\n",
       "      <td>Chateau Fonbadet B de Fonbadet</td>\n",
       "      <td>2019</td>\n",
       "      <td>Bordeaux Red Blends</td>\n",
       "      <td>France</td>\n",
       "      <td>24</td>\n",
       "      <td>3.8</td>\n",
       "      <td>31</td>\n",
       "      <td>0</td>\n",
       "      <td>4</td>\n",
       "    </tr>\n",
       "    <tr>\n",
       "      <th>2</th>\n",
       "      <td>Joseph Phelps Cabernet Sauvignon</td>\n",
       "      <td>2019</td>\n",
       "      <td>Cabernet Sauvignon</td>\n",
       "      <td>California</td>\n",
       "      <td>89</td>\n",
       "      <td>4.5</td>\n",
       "      <td>46</td>\n",
       "      <td>1</td>\n",
       "      <td>2</td>\n",
       "    </tr>\n",
       "    <tr>\n",
       "      <th>3</th>\n",
       "      <td>Stag's Leap Wine Cellars Artemis Cabernet Sauv...</td>\n",
       "      <td>2019</td>\n",
       "      <td>Cabernet Sauvignon</td>\n",
       "      <td>California</td>\n",
       "      <td>77</td>\n",
       "      <td>4.4</td>\n",
       "      <td>72</td>\n",
       "      <td>1</td>\n",
       "      <td>2</td>\n",
       "    </tr>\n",
       "    <tr>\n",
       "      <th>4</th>\n",
       "      <td>Faust Cabernet Sauvignon</td>\n",
       "      <td>2018</td>\n",
       "      <td>Cabernet Sauvignon</td>\n",
       "      <td>California</td>\n",
       "      <td>55</td>\n",
       "      <td>4.3</td>\n",
       "      <td>427</td>\n",
       "      <td>1</td>\n",
       "      <td>2</td>\n",
       "    </tr>\n",
       "    <tr>\n",
       "      <th>...</th>\n",
       "      <td>...</td>\n",
       "      <td>...</td>\n",
       "      <td>...</td>\n",
       "      <td>...</td>\n",
       "      <td>...</td>\n",
       "      <td>...</td>\n",
       "      <td>...</td>\n",
       "      <td>...</td>\n",
       "      <td>...</td>\n",
       "    </tr>\n",
       "    <tr>\n",
       "      <th>340</th>\n",
       "      <td>Chateau Canon La Gaffeliere</td>\n",
       "      <td>2016</td>\n",
       "      <td>Bordeaux Red Blends</td>\n",
       "      <td>France</td>\n",
       "      <td>105</td>\n",
       "      <td>4.5</td>\n",
       "      <td>44</td>\n",
       "      <td>0</td>\n",
       "      <td>4</td>\n",
       "    </tr>\n",
       "    <tr>\n",
       "      <th>341</th>\n",
       "      <td>Santa Ema Reserva Cabernet Sauvignon</td>\n",
       "      <td>2018</td>\n",
       "      <td>Cabernet Sauvignon</td>\n",
       "      <td>Chile</td>\n",
       "      <td>18</td>\n",
       "      <td>3.8</td>\n",
       "      <td>60</td>\n",
       "      <td>1</td>\n",
       "      <td>3</td>\n",
       "    </tr>\n",
       "    <tr>\n",
       "      <th>342</th>\n",
       "      <td>Chateau Greysac</td>\n",
       "      <td>2016</td>\n",
       "      <td>Bordeaux Red Blends</td>\n",
       "      <td>France</td>\n",
       "      <td>24</td>\n",
       "      <td>3.6</td>\n",
       "      <td>40</td>\n",
       "      <td>0</td>\n",
       "      <td>4</td>\n",
       "    </tr>\n",
       "    <tr>\n",
       "      <th>343</th>\n",
       "      <td>The Prisoner Wine Company Cabernet Sauvignon (...</td>\n",
       "      <td>2018</td>\n",
       "      <td>Cabernet Sauvignon</td>\n",
       "      <td>California</td>\n",
       "      <td>34</td>\n",
       "      <td>4.4</td>\n",
       "      <td>27</td>\n",
       "      <td>1</td>\n",
       "      <td>2</td>\n",
       "    </tr>\n",
       "    <tr>\n",
       "      <th>344</th>\n",
       "      <td>Louis Bernard Cotes du Rhone Villages</td>\n",
       "      <td>2017</td>\n",
       "      <td>Rhone Red Blends</td>\n",
       "      <td>France</td>\n",
       "      <td>13</td>\n",
       "      <td>4.0</td>\n",
       "      <td>24</td>\n",
       "      <td>5</td>\n",
       "      <td>4</td>\n",
       "    </tr>\n",
       "  </tbody>\n",
       "</table>\n",
       "<p>345 rows × 9 columns</p>\n",
       "</div>"
      ],
      "text/plain": [
       "                                          product_name  year  \\\n",
       "0    Robert Mondavi To Kalon Vineyard Reserve Caber...  2017   \n",
       "1                       Chateau Fonbadet B de Fonbadet  2019   \n",
       "2                     Joseph Phelps Cabernet Sauvignon  2019   \n",
       "3    Stag's Leap Wine Cellars Artemis Cabernet Sauv...  2019   \n",
       "4                             Faust Cabernet Sauvignon  2018   \n",
       "..                                                 ...   ...   \n",
       "340                        Chateau Canon La Gaffeliere  2016   \n",
       "341               Santa Ema Reserva Cabernet Sauvignon  2018   \n",
       "342                                    Chateau Greysac  2016   \n",
       "343  The Prisoner Wine Company Cabernet Sauvignon (...  2018   \n",
       "344              Louis Bernard Cotes du Rhone Villages  2017   \n",
       "\n",
       "                varietal      origin  price  rating  rating_count  \\\n",
       "0     Cabernet Sauvignon  California    144     4.6            34   \n",
       "1    Bordeaux Red Blends      France     24     3.8            31   \n",
       "2     Cabernet Sauvignon  California     89     4.5            46   \n",
       "3     Cabernet Sauvignon  California     77     4.4            72   \n",
       "4     Cabernet Sauvignon  California     55     4.3           427   \n",
       "..                   ...         ...    ...     ...           ...   \n",
       "340  Bordeaux Red Blends      France    105     4.5            44   \n",
       "341   Cabernet Sauvignon       Chile     18     3.8            60   \n",
       "342  Bordeaux Red Blends      France     24     3.6            40   \n",
       "343   Cabernet Sauvignon  California     34     4.4            27   \n",
       "344     Rhone Red Blends      France     13     4.0            24   \n",
       "\n",
       "     varietal_code  origin_code  \n",
       "0                1            2  \n",
       "1                0            4  \n",
       "2                1            2  \n",
       "3                1            2  \n",
       "4                1            2  \n",
       "..             ...          ...  \n",
       "340              0            4  \n",
       "341              1            3  \n",
       "342              0            4  \n",
       "343              1            2  \n",
       "344              5            4  \n",
       "\n",
       "[345 rows x 9 columns]"
      ]
     },
     "execution_count": 12,
     "metadata": {},
     "output_type": "execute_result"
    }
   ],
   "source": [
    "df"
   ]
  },
  {
   "cell_type": "markdown",
   "id": "1d20c945",
   "metadata": {},
   "source": [
    "# Plotting some usefull info "
   ]
  },
  {
   "cell_type": "code",
   "execution_count": 13,
   "id": "3bb934b6",
   "metadata": {},
   "outputs": [
    {
     "data": {
      "image/png": "[encoded data removed]",
      "text/plain": [
       "<Figure size 1440x720 with 2 Axes>"
      ]
     },
     "metadata": {
      "needs_background": "light"
     },
     "output_type": "display_data"
    }
   ],
   "source": [
    "fig, (ax1, ax2) = plt.subplots(1,2, figsize=(20,10))\n",
    "sns.barplot(x = 'origin', y = 'rating', data = df,ax=ax1)\n",
    "sns.barplot(x = 'origin', y = 'price', data = df,ax=ax2)\n",
    "ax1.set_title('correlation between origin and rating')\n",
    "ax2.set_title('correlation between origin and price in $')\n",
    "plt.show()"
   ]
  },
  {
   "cell_type": "code",
   "execution_count": 15,
   "id": "5755bab2",
   "metadata": {},
   "outputs": [
    {
     "data": {
      "image/png": "[encoded data removed]",
      "text/plain": [
       "<Figure size 1440x720 with 2 Axes>"
      ]
     },
     "metadata": {},
     "output_type": "display_data"
    }
   ],
   "source": [
    "fig, (ax1,ax2) = plt.subplots(1,2, figsize=(20,10))\n",
    "df['origin'].value_counts().plot.pie(y='origin', figsize=(8, 8),subplots=True,autopct='%1.1f%%', pctdistance=0.8,ax=ax1)\n",
    "df['year'].value_counts().plot.pie(y='year', figsize=(8, 8),subplots=True,autopct='%1.1f%%', pctdistance=0.8,ax=ax2,startangle=180)\n",
    "ax1.set_title(\"The country which sells the wine\")\n",
    "ax2.set_title('the year the wine has been made')\n",
    "plt.show()"
   ]
  },
  {
   "cell_type": "code",
   "execution_count": 17,
   "id": "9ce41d48",
   "metadata": {},
   "outputs": [
    {
     "data": {
      "image/png": "[encoded data removed]",
      "text/plain": [
       "<Figure size 576x576 with 1 Axes>"
      ]
     },
     "metadata": {},
     "output_type": "display_data"
    }
   ],
   "source": [
    "fig, ax1 = plt.subplots(1, figsize=(8,8))\n",
    "df['varietal'].value_counts().plot.pie( figsize=(5, 10),subplots=True,autopct='%1.1f%%', pctdistance=0.8,ax=ax1,startangle=20)\n",
    "ax1.set_title('The varietal of the selling wine')\n",
    "plt.show()"
   ]
  },
  {
   "cell_type": "markdown",
   "id": "fe47d251",
   "metadata": {},
   "source": [
    "**adding rating_code to predict if the wine is worth to buy**"
   ]
  },
  {
   "cell_type": "code",
   "execution_count": 18,
   "id": "dfee66e6",
   "metadata": {},
   "outputs": [
    {
     "data": {
      "text/html": [
       "<div>\n",
       "<style scoped>\n",
       "    .dataframe tbody tr th:only-of-type {\n",
       "        vertical-align: middle;\n",
       "    }\n",
       "\n",
       "    .dataframe tbody tr th {\n",
       "        vertical-align: top;\n",
       "    }\n",
       "\n",
       "    .dataframe thead th {\n",
       "        text-align: right;\n",
       "    }\n",
       "</style>\n",
       "<table border=\"1\" class=\"dataframe\">\n",
       "  <thead>\n",
       "    <tr style=\"text-align: right;\">\n",
       "      <th></th>\n",
       "      <th>product_name</th>\n",
       "      <th>year</th>\n",
       "      <th>varietal</th>\n",
       "      <th>origin</th>\n",
       "      <th>price</th>\n",
       "      <th>rating</th>\n",
       "      <th>rating_count</th>\n",
       "      <th>varietal_code</th>\n",
       "      <th>origin_code</th>\n",
       "      <th>rating_code</th>\n",
       "    </tr>\n",
       "  </thead>\n",
       "  <tbody>\n",
       "    <tr>\n",
       "      <th>0</th>\n",
       "      <td>Robert Mondavi To Kalon Vineyard Reserve Caber...</td>\n",
       "      <td>2017</td>\n",
       "      <td>Cabernet Sauvignon</td>\n",
       "      <td>California</td>\n",
       "      <td>144</td>\n",
       "      <td>4.6</td>\n",
       "      <td>34</td>\n",
       "      <td>1</td>\n",
       "      <td>2</td>\n",
       "      <td>good</td>\n",
       "    </tr>\n",
       "    <tr>\n",
       "      <th>1</th>\n",
       "      <td>Chateau Fonbadet B de Fonbadet</td>\n",
       "      <td>2019</td>\n",
       "      <td>Bordeaux Red Blends</td>\n",
       "      <td>France</td>\n",
       "      <td>24</td>\n",
       "      <td>3.8</td>\n",
       "      <td>31</td>\n",
       "      <td>0</td>\n",
       "      <td>4</td>\n",
       "      <td>bad</td>\n",
       "    </tr>\n",
       "    <tr>\n",
       "      <th>2</th>\n",
       "      <td>Joseph Phelps Cabernet Sauvignon</td>\n",
       "      <td>2019</td>\n",
       "      <td>Cabernet Sauvignon</td>\n",
       "      <td>California</td>\n",
       "      <td>89</td>\n",
       "      <td>4.5</td>\n",
       "      <td>46</td>\n",
       "      <td>1</td>\n",
       "      <td>2</td>\n",
       "      <td>good</td>\n",
       "    </tr>\n",
       "    <tr>\n",
       "      <th>3</th>\n",
       "      <td>Stag's Leap Wine Cellars Artemis Cabernet Sauv...</td>\n",
       "      <td>2019</td>\n",
       "      <td>Cabernet Sauvignon</td>\n",
       "      <td>California</td>\n",
       "      <td>77</td>\n",
       "      <td>4.4</td>\n",
       "      <td>72</td>\n",
       "      <td>1</td>\n",
       "      <td>2</td>\n",
       "      <td>good</td>\n",
       "    </tr>\n",
       "    <tr>\n",
       "      <th>4</th>\n",
       "      <td>Faust Cabernet Sauvignon</td>\n",
       "      <td>2018</td>\n",
       "      <td>Cabernet Sauvignon</td>\n",
       "      <td>California</td>\n",
       "      <td>55</td>\n",
       "      <td>4.3</td>\n",
       "      <td>427</td>\n",
       "      <td>1</td>\n",
       "      <td>2</td>\n",
       "      <td>good</td>\n",
       "    </tr>\n",
       "    <tr>\n",
       "      <th>...</th>\n",
       "      <td>...</td>\n",
       "      <td>...</td>\n",
       "      <td>...</td>\n",
       "      <td>...</td>\n",
       "      <td>...</td>\n",
       "      <td>...</td>\n",
       "      <td>...</td>\n",
       "      <td>...</td>\n",
       "      <td>...</td>\n",
       "      <td>...</td>\n",
       "    </tr>\n",
       "    <tr>\n",
       "      <th>340</th>\n",
       "      <td>Chateau Canon La Gaffeliere</td>\n",
       "      <td>2016</td>\n",
       "      <td>Bordeaux Red Blends</td>\n",
       "      <td>France</td>\n",
       "      <td>105</td>\n",
       "      <td>4.5</td>\n",
       "      <td>44</td>\n",
       "      <td>0</td>\n",
       "      <td>4</td>\n",
       "      <td>good</td>\n",
       "    </tr>\n",
       "    <tr>\n",
       "      <th>341</th>\n",
       "      <td>Santa Ema Reserva Cabernet Sauvignon</td>\n",
       "      <td>2018</td>\n",
       "      <td>Cabernet Sauvignon</td>\n",
       "      <td>Chile</td>\n",
       "      <td>18</td>\n",
       "      <td>3.8</td>\n",
       "      <td>60</td>\n",
       "      <td>1</td>\n",
       "      <td>3</td>\n",
       "      <td>bad</td>\n",
       "    </tr>\n",
       "    <tr>\n",
       "      <th>342</th>\n",
       "      <td>Chateau Greysac</td>\n",
       "      <td>2016</td>\n",
       "      <td>Bordeaux Red Blends</td>\n",
       "      <td>France</td>\n",
       "      <td>24</td>\n",
       "      <td>3.6</td>\n",
       "      <td>40</td>\n",
       "      <td>0</td>\n",
       "      <td>4</td>\n",
       "      <td>bad</td>\n",
       "    </tr>\n",
       "    <tr>\n",
       "      <th>343</th>\n",
       "      <td>The Prisoner Wine Company Cabernet Sauvignon (...</td>\n",
       "      <td>2018</td>\n",
       "      <td>Cabernet Sauvignon</td>\n",
       "      <td>California</td>\n",
       "      <td>34</td>\n",
       "      <td>4.4</td>\n",
       "      <td>27</td>\n",
       "      <td>1</td>\n",
       "      <td>2</td>\n",
       "      <td>good</td>\n",
       "    </tr>\n",
       "    <tr>\n",
       "      <th>344</th>\n",
       "      <td>Louis Bernard Cotes du Rhone Villages</td>\n",
       "      <td>2017</td>\n",
       "      <td>Rhone Red Blends</td>\n",
       "      <td>France</td>\n",
       "      <td>13</td>\n",
       "      <td>4.0</td>\n",
       "      <td>24</td>\n",
       "      <td>5</td>\n",
       "      <td>4</td>\n",
       "      <td>bad</td>\n",
       "    </tr>\n",
       "  </tbody>\n",
       "</table>\n",
       "<p>345 rows × 10 columns</p>\n",
       "</div>"
      ],
      "text/plain": [
       "                                          product_name  year  \\\n",
       "0    Robert Mondavi To Kalon Vineyard Reserve Caber...  2017   \n",
       "1                       Chateau Fonbadet B de Fonbadet  2019   \n",
       "2                     Joseph Phelps Cabernet Sauvignon  2019   \n",
       "3    Stag's Leap Wine Cellars Artemis Cabernet Sauv...  2019   \n",
       "4                             Faust Cabernet Sauvignon  2018   \n",
       "..                                                 ...   ...   \n",
       "340                        Chateau Canon La Gaffeliere  2016   \n",
       "341               Santa Ema Reserva Cabernet Sauvignon  2018   \n",
       "342                                    Chateau Greysac  2016   \n",
       "343  The Prisoner Wine Company Cabernet Sauvignon (...  2018   \n",
       "344              Louis Bernard Cotes du Rhone Villages  2017   \n",
       "\n",
       "                varietal      origin  price  rating  rating_count  \\\n",
       "0     Cabernet Sauvignon  California    144     4.6            34   \n",
       "1    Bordeaux Red Blends      France     24     3.8            31   \n",
       "2     Cabernet Sauvignon  California     89     4.5            46   \n",
       "3     Cabernet Sauvignon  California     77     4.4            72   \n",
       "4     Cabernet Sauvignon  California     55     4.3           427   \n",
       "..                   ...         ...    ...     ...           ...   \n",
       "340  Bordeaux Red Blends      France    105     4.5            44   \n",
       "341   Cabernet Sauvignon       Chile     18     3.8            60   \n",
       "342  Bordeaux Red Blends      France     24     3.6            40   \n",
       "343   Cabernet Sauvignon  California     34     4.4            27   \n",
       "344     Rhone Red Blends      France     13     4.0            24   \n",
       "\n",
       "     varietal_code  origin_code rating_code  \n",
       "0                1            2        good  \n",
       "1                0            4         bad  \n",
       "2                1            2        good  \n",
       "3                1            2        good  \n",
       "4                1            2        good  \n",
       "..             ...          ...         ...  \n",
       "340              0            4        good  \n",
       "341              1            3         bad  \n",
       "342              0            4         bad  \n",
       "343              1            2        good  \n",
       "344              5            4         bad  \n",
       "\n",
       "[345 rows x 10 columns]"
      ]
     },
     "execution_count": 18,
     "metadata": {},
     "output_type": "execute_result"
    }
   ],
   "source": [
    "df['rating'].value_counts()\n",
    "names = ['bad', 'good']\n",
    "bins = (3.0, 4.1, 5.0)\n",
    "df['rating_code'] = pd.cut(df['rating'], bins = bins, labels = names)\n",
    "df"
   ]
  },
  {
   "cell_type": "markdown",
   "id": "15e13927",
   "metadata": {},
   "source": [
    "**visualizing rating_code**"
   ]
  },
  {
   "cell_type": "code",
   "execution_count": 19,
   "id": "1516a817",
   "metadata": {},
   "outputs": [
    {
     "data": {
      "text/plain": [
       "bad     189\n",
       "good    156\n",
       "Name: rating_code, dtype: int64"
      ]
     },
     "execution_count": 19,
     "metadata": {},
     "output_type": "execute_result"
    },
    {
     "data": {
      "image/png": "[encoded data removed]",
      "text/plain": [
       "<Figure size 432x288 with 1 Axes>"
      ]
     },
     "metadata": {
      "needs_background": "light"
     },
     "output_type": "display_data"
    }
   ],
   "source": [
    "df['rating_code'].value_counts().plot.bar()\n",
    "df['rating_code'].value_counts()"
   ]
  },
  {
   "cell_type": "markdown",
   "id": "bd668b03",
   "metadata": {},
   "source": [
    "\n",
    "# Starting machine learning"
   ]
  },
  {
   "cell_type": "code",
   "execution_count": 20,
   "id": "f93c29c3",
   "metadata": {},
   "outputs": [],
   "source": [
    "from sklearn.preprocessing import LabelEncoder\n",
    "le = LabelEncoder()\n",
    "df['rating_code'] = le.fit_transform(df['rating_code'])"
   ]
  },
  {
   "cell_type": "markdown",
   "id": "20eca358",
   "metadata": {},
   "source": [
    "**dividing to independent and dependent variables**"
   ]
  },
  {
   "cell_type": "code",
   "execution_count": 21,
   "id": "a8e3a140",
   "metadata": {},
   "outputs": [],
   "source": [
    "X = df.drop(columns=['rating','product_name','varietal','origin','rating_code'])\n",
    "y = df['rating_code']"
   ]
  },
  {
   "cell_type": "markdown",
   "id": "836e68a2",
   "metadata": {},
   "source": [
    "**creating classify function to match all the modeles**"
   ]
  },
  {
   "cell_type": "code",
   "execution_count": 42,
   "id": "3d4c4ce9",
   "metadata": {},
   "outputs": [],
   "source": [
    "from sklearn.model_selection import cross_val_score, train_test_split\n",
    "from sklearn.metrics import classification_report, confusion_matrix\n",
    "def classify(model, X, y):\n",
    "    x_train, x_test, y_train, y_test = train_test_split(X, y, test_size=0.25, random_state=42)\n",
    "    # train the model\n",
    "    model.fit(x_train, y_train)\n",
    "    accuracy = model.score(x_test, y_test)\n",
    "    print(\"Accuracy:\", accuracy * 100)\n",
    "    \n",
    "    # predicting the results for the test set\n",
    "    y_pred = model.predict(x_test)\n",
    "    \n",
    "    # cross-validation\n",
    "    score = cross_val_score(model, X, y, cv=5)\n",
    "    print(\"CV Score:\", np.mean(score)*100)\n",
    "    matrix = confusion_matrix(y_test, y_pred)\n",
    "    matrix = pd.DataFrame(matrix,columns = ['0', '1'])\n",
    "    matrix.plot.bar()\n",
    "    return matrix"
   ]
  },
  {
   "cell_type": "markdown",
   "id": "e37527d5",
   "metadata": {},
   "source": [
    "**LogisticRegression**"
   ]
  },
  {
   "cell_type": "code",
   "execution_count": 43,
   "id": "0e1a7120",
   "metadata": {
    "scrolled": false
   },
   "outputs": [
    {
     "name": "stdout",
     "output_type": "stream",
     "text": [
      "Accuracy: 75.86206896551724\n",
      "CV Score: 74.78260869565217\n"
     ]
    },
    {
     "data": {
      "text/html": [
       "<div>\n",
       "<style scoped>\n",
       "    .dataframe tbody tr th:only-of-type {\n",
       "        vertical-align: middle;\n",
       "    }\n",
       "\n",
       "    .dataframe tbody tr th {\n",
       "        vertical-align: top;\n",
       "    }\n",
       "\n",
       "    .dataframe thead th {\n",
       "        text-align: right;\n",
       "    }\n",
       "</style>\n",
       "<table border=\"1\" class=\"dataframe\">\n",
       "  <thead>\n",
       "    <tr style=\"text-align: right;\">\n",
       "      <th></th>\n",
       "      <th>0</th>\n",
       "      <th>1</th>\n",
       "    </tr>\n",
       "  </thead>\n",
       "  <tbody>\n",
       "    <tr>\n",
       "      <th>0</th>\n",
       "      <td>41</td>\n",
       "      <td>4</td>\n",
       "    </tr>\n",
       "    <tr>\n",
       "      <th>1</th>\n",
       "      <td>17</td>\n",
       "      <td>25</td>\n",
       "    </tr>\n",
       "  </tbody>\n",
       "</table>\n",
       "</div>"
      ],
      "text/plain": [
       "    0   1\n",
       "0  41   4\n",
       "1  17  25"
      ]
     },
     "execution_count": 43,
     "metadata": {},
     "output_type": "execute_result"
    },
    {
     "data": {
      "image/png": "[encoded data removed]",
      "text/plain": [
       "<Figure size 432x288 with 1 Axes>"
      ]
     },
     "metadata": {
      "needs_background": "light"
     },
     "output_type": "display_data"
    }
   ],
   "source": [
    "from sklearn.linear_model import LogisticRegression\n",
    "model = LogisticRegression()\n",
    "classify(model, X, y)\n"
   ]
  },
  {
   "cell_type": "markdown",
   "id": "82d5a22d",
   "metadata": {},
   "source": [
    "**DecisionTreeClassifier**"
   ]
  },
  {
   "cell_type": "code",
   "execution_count": 44,
   "id": "a96b7583",
   "metadata": {},
   "outputs": [
    {
     "name": "stdout",
     "output_type": "stream",
     "text": [
      "Accuracy: 66.66666666666666\n",
      "CV Score: 69.56521739130434\n"
     ]
    },
    {
     "data": {
      "text/html": [
       "<div>\n",
       "<style scoped>\n",
       "    .dataframe tbody tr th:only-of-type {\n",
       "        vertical-align: middle;\n",
       "    }\n",
       "\n",
       "    .dataframe tbody tr th {\n",
       "        vertical-align: top;\n",
       "    }\n",
       "\n",
       "    .dataframe thead th {\n",
       "        text-align: right;\n",
       "    }\n",
       "</style>\n",
       "<table border=\"1\" class=\"dataframe\">\n",
       "  <thead>\n",
       "    <tr style=\"text-align: right;\">\n",
       "      <th></th>\n",
       "      <th>0</th>\n",
       "      <th>1</th>\n",
       "    </tr>\n",
       "  </thead>\n",
       "  <tbody>\n",
       "    <tr>\n",
       "      <th>0</th>\n",
       "      <td>33</td>\n",
       "      <td>12</td>\n",
       "    </tr>\n",
       "    <tr>\n",
       "      <th>1</th>\n",
       "      <td>17</td>\n",
       "      <td>25</td>\n",
       "    </tr>\n",
       "  </tbody>\n",
       "</table>\n",
       "</div>"
      ],
      "text/plain": [
       "    0   1\n",
       "0  33  12\n",
       "1  17  25"
      ]
     },
     "execution_count": 44,
     "metadata": {},
     "output_type": "execute_result"
    },
    {
     "data": {
      "image/png": "[encoded data removed]",
      "text/plain": [
       "<Figure size 432x288 with 1 Axes>"
      ]
     },
     "metadata": {
      "needs_background": "light"
     },
     "output_type": "display_data"
    }
   ],
   "source": [
    "from sklearn.tree import DecisionTreeClassifier\n",
    "model = DecisionTreeClassifier()\n",
    "classify(model, X, y)"
   ]
  },
  {
   "cell_type": "markdown",
   "id": "7373c8b8",
   "metadata": {},
   "source": [
    "**RandomForestClassifier**"
   ]
  },
  {
   "cell_type": "code",
   "execution_count": 45,
   "id": "17b03985",
   "metadata": {},
   "outputs": [
    {
     "name": "stdout",
     "output_type": "stream",
     "text": [
      "Accuracy: 78.16091954022988\n",
      "CV Score: 74.78260869565216\n"
     ]
    },
    {
     "data": {
      "text/html": [
       "<div>\n",
       "<style scoped>\n",
       "    .dataframe tbody tr th:only-of-type {\n",
       "        vertical-align: middle;\n",
       "    }\n",
       "\n",
       "    .dataframe tbody tr th {\n",
       "        vertical-align: top;\n",
       "    }\n",
       "\n",
       "    .dataframe thead th {\n",
       "        text-align: right;\n",
       "    }\n",
       "</style>\n",
       "<table border=\"1\" class=\"dataframe\">\n",
       "  <thead>\n",
       "    <tr style=\"text-align: right;\">\n",
       "      <th></th>\n",
       "      <th>0</th>\n",
       "      <th>1</th>\n",
       "    </tr>\n",
       "  </thead>\n",
       "  <tbody>\n",
       "    <tr>\n",
       "      <th>0</th>\n",
       "      <td>38</td>\n",
       "      <td>7</td>\n",
       "    </tr>\n",
       "    <tr>\n",
       "      <th>1</th>\n",
       "      <td>12</td>\n",
       "      <td>30</td>\n",
       "    </tr>\n",
       "  </tbody>\n",
       "</table>\n",
       "</div>"
      ],
      "text/plain": [
       "    0   1\n",
       "0  38   7\n",
       "1  12  30"
      ]
     },
     "execution_count": 45,
     "metadata": {},
     "output_type": "execute_result"
    },
    {
     "data": {
      "image/png": "[encoded data removed]",
      "text/plain": [
       "<Figure size 432x288 with 1 Axes>"
      ]
     },
     "metadata": {
      "needs_background": "light"
     },
     "output_type": "display_data"
    }
   ],
   "source": [
    "from sklearn.ensemble import RandomForestClassifier\n",
    "model = RandomForestClassifier()\n",
    "classify(model, X, y)"
   ]
  },
  {
   "cell_type": "markdown",
   "id": "33d50ba3",
   "metadata": {},
   "source": [
    "**ExtraTreesClassifier**"
   ]
  },
  {
   "cell_type": "code",
   "execution_count": 46,
   "id": "802aa582",
   "metadata": {},
   "outputs": [
    {
     "name": "stdout",
     "output_type": "stream",
     "text": [
      "Accuracy: 72.41379310344827\n",
      "CV Score: 72.17391304347827\n"
     ]
    },
    {
     "data": {
      "text/html": [
       "<div>\n",
       "<style scoped>\n",
       "    .dataframe tbody tr th:only-of-type {\n",
       "        vertical-align: middle;\n",
       "    }\n",
       "\n",
       "    .dataframe tbody tr th {\n",
       "        vertical-align: top;\n",
       "    }\n",
       "\n",
       "    .dataframe thead th {\n",
       "        text-align: right;\n",
       "    }\n",
       "</style>\n",
       "<table border=\"1\" class=\"dataframe\">\n",
       "  <thead>\n",
       "    <tr style=\"text-align: right;\">\n",
       "      <th></th>\n",
       "      <th>0</th>\n",
       "      <th>1</th>\n",
       "    </tr>\n",
       "  </thead>\n",
       "  <tbody>\n",
       "    <tr>\n",
       "      <th>0</th>\n",
       "      <td>34</td>\n",
       "      <td>11</td>\n",
       "    </tr>\n",
       "    <tr>\n",
       "      <th>1</th>\n",
       "      <td>13</td>\n",
       "      <td>29</td>\n",
       "    </tr>\n",
       "  </tbody>\n",
       "</table>\n",
       "</div>"
      ],
      "text/plain": [
       "    0   1\n",
       "0  34  11\n",
       "1  13  29"
      ]
     },
     "execution_count": 46,
     "metadata": {},
     "output_type": "execute_result"
    },
    {
     "data": {
      "image/png": "[encoded data removed]",
      "text/plain": [
       "<Figure size 432x288 with 1 Axes>"
      ]
     },
     "metadata": {
      "needs_background": "light"
     },
     "output_type": "display_data"
    }
   ],
   "source": [
    "from sklearn.ensemble import ExtraTreesClassifier\n",
    "model = ExtraTreesClassifier()\n",
    "classify(model, X, y)"
   ]
  },
  {
   "cell_type": "code",
   "execution_count": null,
   "id": "30609773",
   "metadata": {},
   "outputs": [],
   "source": []
  }
 ],
 "metadata": {
  "kernelspec": {
   "display_name": "Python 3 (ipykernel)",
   "language": "python",
   "name": "python3"
  },
  "language_info": {
   "codemirror_mode": {
    "name": "ipython",
    "version": 3
   },
   "file_extension": ".py",
   "mimetype": "text/x-python",
   "name": "python",
   "nbconvert_exporter": "python",
   "pygments_lexer": "ipython3",
   "version": "3.9.7"
  }
 },
 "nbformat": 4,
 "nbformat_minor": 5
}
